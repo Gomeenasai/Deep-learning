{
 "cells": [
  {
   "cell_type": "code",
   "execution_count": null,
   "metadata": {
    "collapsed": true
   },
   "outputs": [],
   "source": [
    "import numpy as np\n",
    "import scipy as sp\n",
    "import scipy.io as sio\n",
    "import scipy.signal as sig\n",
    "import pywt\n",
    "import os\n",
    "import glob\n",
    "import itertools\n",
    "import matplotlib\n",
    "import pandas as pd\n",
    "import re\n",
    "import tensorflow as tf\n",
    "from tensorflow.contrib.layers import fully_connected\n",
    "import tensorflow.contrib.rnn as recurrent\n",
    "import sklearn.preprocessing\n",
    "import matplotlib.pyplot as plt\n",
    "#\n",
    "%matplotlib inline"
   ]
  },
  {
   "cell_type": "code",
   "execution_count": null,
   "metadata": {
    "collapsed": false
   },
   "outputs": [],
   "source": [
    "from codes.pre_processing import *\n",
    "from codes.segmentation import *\n",
    "from codes.utils import *\n",
    "from codes.training import *\n",
    "from codes.model import *"
   ]
  },
  {
   "cell_type": "markdown",
   "metadata": {},
   "source": [
    "A utility fuction to plot confusion matrix: \n",
    "http://scikit-learn.org/stable/auto_examples/model_selection/plot_confusion_matrix.html#sphx-glr-auto-examples-model-selection-plot-confusion-matrix-py"
   ]
  },
  {
   "cell_type": "code",
   "execution_count": null,
   "metadata": {
    "collapsed": true
   },
   "outputs": [],
   "source": [
    "def plot_confusion_matrix(cm, classes,\n",
    "                          normalize=False,\n",
    "                          title='Confusion matrix',\n",
    "                          cmap=plt.cm.Blues):\n",
    "    \"\"\"\n",
    "    This function prints and plots the confusion matrix.\n",
    "    Normalization can be applied by setting `normalize=True`.\n",
    "    \"\"\"\n",
    "    if normalize:\n",
    "        cm = cm.astype('float') / cm.sum(axis=1)[:, np.newaxis]\n",
    "        print(\"Normalized confusion matrix\")\n",
    "    else:\n",
    "        print('Confusion matrix, without normalization')\n",
    "\n",
    "    print(cm)\n",
    "\n",
    "    plt.imshow(cm, interpolation='nearest', cmap=cmap)\n",
    "    plt.title(title)\n",
    "    plt.colorbar()\n",
    "    tick_marks = np.arange(len(classes))\n",
    "    plt.xticks(tick_marks, classes, rotation=45)\n",
    "    plt.yticks(tick_marks, classes)\n",
    "\n",
    "    fmt = '.2f' if normalize else 'd'\n",
    "    thresh = cm.max() / 2.\n",
    "    for i, j in itertools.product(range(cm.shape[0]), range(cm.shape[1])):\n",
    "        plt.text(j, i, format(cm[i, j], fmt),\n",
    "                 horizontalalignment=\"center\",\n",
    "                 color=\"white\" if cm[i, j] > thresh else \"black\")\n",
    "\n",
    "    plt.tight_layout()\n",
    "    plt.ylabel('True class')\n",
    "    plt.xlabel('Predicted class')"
   ]
  },
  {
   "cell_type": "code",
   "execution_count": null,
   "metadata": {
    "collapsed": false
   },
   "outputs": [],
   "source": [
    "data_root_dir = '../training_set'\n",
    "train_file_list, val_file_list = test_val_split_v2(data_root_dir, train_percentage = 90)\n",
    "ref_file = os.path.join(data_root_dir, 'REFERENCE.csv')"
   ]
  },
  {
   "cell_type": "code",
   "execution_count": null,
   "metadata": {
    "collapsed": false
   },
   "outputs": [],
   "source": [
    "df = pd.read_csv(ref_file, delimiter = ',')\n",
    "#\n",
    "RECORDS = pd.Series.as_matrix(df.Recording)\n",
    "LABEL_1 = pd.Series.as_matrix(df.First_label)\n",
    "LABEL_2 = pd.Series.as_matrix(df.Second_label)\n",
    "LABEL_3 = pd.Series.as_matrix(df.Third_label)\n",
    "#\n",
    "N = len(RECORDS)"
   ]
  },
  {
   "cell_type": "code",
   "execution_count": null,
   "metadata": {
    "collapsed": false
   },
   "outputs": [],
   "source": [
    "# build the graph\n",
    "inputs, labels, seq_length, logits, accuracy = build_model_graph()"
   ]
  },
  {
   "cell_type": "code",
   "execution_count": null,
   "metadata": {
    "collapsed": true
   },
   "outputs": [],
   "source": [
    "model_dir = './model'"
   ]
  },
  {
   "cell_type": "code",
   "execution_count": null,
   "metadata": {
    "collapsed": false
   },
   "outputs": [],
   "source": [
    "# prediction\n",
    "# first some placeholders to keep the results\n",
    "sub_id = list()\n",
    "sub_actual = list()\n",
    "sub_predict = list()\n",
    "#\n",
    "with tf.Session() as sess:\n",
    "    # load the model\n",
    "    load_model(model_dir, sess)\n",
    "    #\n",
    "    for num in np.arange(len(val_file_list)):\n",
    "        record = re.search('A[0-9]+', val_file_list[num]).group(0)\n",
    "        sub_id.append(record)\n",
    "        parent_label = LABEL_1[np.squeeze(np.where(RECORDS == record))]\n",
    "        sub_actual.append(parent_label - 1)\n",
    "        peaks, features = peak_detector_with_refinement(val_file_list[num], 'sym8', max_level, window_size, window_size_for_threshold, search_radius)\n",
    "        segs, labs, lens = extract_ecg_segments_v2(peaks, val_file_list[num], parent_label, 1000)\n",
    "        #segs = np.transpose(segs, axes = (0, 2, 1))\n",
    "        logits_val = sess.run(logits, feed_dict = {inputs: segs, labels: labs, seq_length: lens})\n",
    "        acc = sess.run(accuracy, feed_dict = {inputs: segs, labels: labs, seq_length: lens})\n",
    "        sub_predict.append(prediction_v2(np.argmax(logits_val, axis = 1)))\n",
    "        print('processed: ' + RECORDS[np.squeeze(np.where(RECORDS == record))])\n",
    "#\n",
    "data_dict = {'id': sub_id, 'actual_class': sub_actual, 'predicted_class': sub_predict}\n",
    "df = pd.DataFrame(data = data_dict)   "
   ]
  },
  {
   "cell_type": "code",
   "execution_count": null,
   "metadata": {
    "collapsed": false
   },
   "outputs": [],
   "source": [
    "from sklearn.metrics import f1_score, confusion_matrix\n",
    "#\n",
    "GT_labels = df['actual_class'].tolist()\n",
    "predict_labels = df['predicted_class'].tolist()\n",
    "#\n",
    "con_mtx = confusion_matrix(GT_labels, predict_labels, )"
   ]
  },
  {
   "cell_type": "code",
   "execution_count": null,
   "metadata": {
    "collapsed": false
   },
   "outputs": [],
   "source": [
    "print(f1_score(GT_labels, predict_labels, average = 'micro'))\n",
    "print(f1_score(GT_labels, predict_labels, average = 'weighted'))\n",
    "print(f1_score(GT_labels, predict_labels, average = None))"
   ]
  },
  {
   "cell_type": "code",
   "execution_count": null,
   "metadata": {
    "collapsed": true
   },
   "outputs": [],
   "source": [
    "plt.figure()\n",
    "class_names = ['Normal', 'AF', 'I-AVB', 'LBBB', 'RBBB', 'PAC', 'PVC', 'STD', 'STE']\n",
    "plot_confusion_matrix(con_mtx, classes=class_names, normalize=True,\n",
    "                      title='Confusion Matrix')"
   ]
  }
 ],
 "metadata": {
  "anaconda-cloud": {},
  "kernelspec": {
   "display_name": "Python [conda root]",
   "language": "python",
   "name": "conda-root-py"
  },
  "language_info": {
   "codemirror_mode": {
    "name": "ipython",
    "version": 3
   },
   "file_extension": ".py",
   "mimetype": "text/x-python",
   "name": "python",
   "nbconvert_exporter": "python",
   "pygments_lexer": "ipython3",
   "version": "3.5.2"
  }
 },
 "nbformat": 4,
 "nbformat_minor": 1
}
